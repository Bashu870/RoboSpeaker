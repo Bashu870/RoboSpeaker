{
 "cells": [
  {
   "cell_type": "markdown",
   "id": "664f19f6",
   "metadata": {},
   "source": [
    "# RoboSpeaker"
   ]
  },
  {
   "cell_type": "code",
   "execution_count": 22,
   "id": "bdc38972",
   "metadata": {},
   "outputs": [
    {
     "name": "stdout",
     "output_type": "stream",
     "text": [
      "Enter what you want me to speak, created by Bashu: Welcome to RoboSpeaker\n"
     ]
    },
    {
     "data": {
      "text/html": [
       "\n",
       "                <audio  controls=\"controls\" autoplay=\"autoplay\">\n",
       "                    <source src=\"data:audio/mpeg;base64,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\" type=\"audio/mpeg\" />\n",
       "                    Your browser does not support the audio element.\n",
       "                </audio>\n",
       "              "
      ],
      "text/plain": [
       "<IPython.lib.display.Audio object>"
      ]
     },
     "execution_count": 22,
     "metadata": {},
     "output_type": "execute_result"
    }
   ],
   "source": [
    "from gtts import gTTS\n",
    "import IPython.display as ipd\n",
    "\n",
    "x = input(\"Enter what you want me to speak, created by Bashu: \")\n",
    "\n",
    "# Convert the user's input (x) to speech\n",
    "tts = gTTS(text=x, lang='en')\n",
    "\n",
    "# Save the generated audio as \"output.mp3\"\n",
    "tts.save(\"output.mp3\")\n",
    "\n",
    "# Display and play the generated audio\n",
    "ipd.Audio(\"output.mp3\", autoplay = True)\n"
   ]
  },
  {
   "cell_type": "code",
   "execution_count": null,
   "id": "69e1389c",
   "metadata": {},
   "outputs": [],
   "source": []
  },
  {
   "cell_type": "code",
   "execution_count": null,
   "id": "89a1d7e8",
   "metadata": {},
   "outputs": [],
   "source": []
  }
 ],
 "metadata": {
  "kernelspec": {
   "display_name": "Python 3 (ipykernel)",
   "language": "python",
   "name": "python3"
  },
  "language_info": {
   "codemirror_mode": {
    "name": "ipython",
    "version": 3
   },
   "file_extension": ".py",
   "mimetype": "text/x-python",
   "name": "python",
   "nbconvert_exporter": "python",
   "pygments_lexer": "ipython3",
   "version": "3.9.13"
  }
 },
 "nbformat": 4,
 "nbformat_minor": 5
}
